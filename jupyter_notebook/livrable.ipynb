{
 "cells": [
  {
   "cell_type": "markdown",
   "id": "ea7cec13-5d30-45cb-9669-bebcb0cb2ee4",
   "metadata": {},
   "source": [
    "# Projet Human For You"
   ]
  },
  {
   "cell_type": "markdown",
   "id": "cf5bfa11-293e-4d79-ae05-26bd82f734f1",
   "metadata": {},
   "source": [
    "# Analyse de la rétention des employés chez HumanForYou\r\n",
    "\r\n",
    "## Contexte\r\n",
    "L'entreprise pharmaceutique HumanForYou, basée en Inde, fait face à un défi majeur avec un taux de rotation d'environ 15 % de ses employés chaque année. Ce taux élevé de rotation affecte négativement les projets en cours, la réputation de l'entreprise, et nécessite un service des ressources humaines conséquent pour recruter de nouveaux talents.\r\n",
    "\r\n",
    "## Objectif\r\n",
    "L'objectif de ce projet est d'analyser les données fournies par HumanForYou pour identifier les principaux facteurs influençant le taux de rotation des employés. À partir de cette analyse, nous proposerons des modèles prédictifs pour aider l'entreprise à identifier les employés à risque de départ et développer des stratégies de rétention efficaces.\r\n",
    "\r\n",
    "## Données\r\n",
    "Les données comprennent des informations démographiques, professionnelles, et des évaluations sur les employés, ainsi que des données sur leur qualité de vie au travail et leurs horaires.\r\n",
    "\r\n",
    "## Méthodologie\r\n",
    "Nous utiliserons des techniques d'analyse exploratoire des données (EDA) pour comprendre les tendances, suivies de la modélisation prédictive pour identifier les facteurs de risque de rotation. Les algorithmes d'apprentissage automatique seront évalués pour leur efficacité à prédire la probabilité de rotation des employés.\r\n",
    "\r\n",
    "## Éthique\r\n",
    "Une attention particulière sera accordée à l'éthique dans le traitement des données et l'interprétation des modèles, en veillant à respecter la confidentialité et la non-discrimination.\r\n",
    "\r\n",
    "## Livrables\r\n",
    "Le projet inclura un notebook Jupyter documentant l'analyse, les choix méthodologiques, l'évaluation des modèles, et des recommandations pour des actions de rétention ciblées.\r\n",
    "\r\n"
   ]
  }
 ],
 "metadata": {
  "kernelspec": {
   "display_name": "Python 3 (ipykernel)",
   "language": "python",
   "name": "python3"
  },
  "language_info": {
   "codemirror_mode": {
    "name": "ipython",
    "version": 3
   },
   "file_extension": ".py",
   "mimetype": "text/x-python",
   "name": "python",
   "nbconvert_exporter": "python",
   "pygments_lexer": "ipython3",
   "version": "3.12.0"
  }
 },
 "nbformat": 4,
 "nbformat_minor": 5
}
